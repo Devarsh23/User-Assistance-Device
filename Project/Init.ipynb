{
 "cells": [
  {
   "cell_type": "code",
   "execution_count": 6,
   "metadata": {},
   "outputs": [],
   "source": [
    "import pyttsx3\n",
    "import speech_recognition as sr\n",
    "import os\n",
    "#from Indoor.Chairsofadistance import run\n",
    "#import Indoor\n",
    "#from subprocess import call\n",
    "#import importlib"
   ]
  },
  {
   "cell_type": "code",
   "execution_count": 23,
   "metadata": {},
   "outputs": [],
   "source": [
    "en=pyttsx3.init()\n",
    "r = sr.Recognizer()"
   ]
  },
  {
   "cell_type": "code",
   "execution_count": 24,
   "metadata": {},
   "outputs": [
    {
     "name": "stdout",
     "output_type": "stream",
     "text": [
      "Text: Indore\n",
      "indore\n"
     ]
    }
   ],
   "source": [
    "mode = \"none\"\n",
    "\n",
    "while mode == \"none\":\n",
    "    with sr.Microphone() as source:\n",
    "        #print(\"Speak\")\n",
    "        en.say(\"Select the mode.\")\n",
    "        en.runAndWait()\n",
    "        audio_text = r.listen(source,timeout=120,phrase_time_limit=5)\n",
    "        try:\n",
    "        # using google speech recognition\n",
    "            print(\"Text: \"+r.recognize_google(audio_text))\n",
    "            mode = r.recognize_google(audio_text)\n",
    "            mode = mode.lower()\n",
    "            print(mode)\n",
    "            #engine = pyttsx3.init()\n",
    "            #engine.say(q)\n",
    "            #engine.runAndWait()\n",
    "        except:\n",
    "            print(\"Sorry, I did not get that\")"
   ]
  },
  {
   "cell_type": "code",
   "execution_count": 17,
   "metadata": {},
   "outputs": [],
   "source": [
    "mode = \"indore\"\n",
    "if mode == \"indore\":\n",
    "    #execfile('Indoor/Chair-sofa distance.ipynb')\n",
    "    #exec(open('Indoor/Chair-sofa distance.py').read())\n",
    "    #run()\n",
    "    #file = importlib.import_module(\"Indoor/ChairSofaDistance.py\")\n",
    "    #Indoor.run()\n",
    "    #call([\"Python3\", \"{}\".format(\"E:\\Jupyter-notebook\\Internship\\Indoor\\ChairSofaDistance.ipynb\")])\n",
    "    os.system('python3 E:\\Jupyter-notebook\\Internship\\Indoor\\Chairsofadistance.py')"
   ]
  },
  {
   "cell_type": "code",
   "execution_count": null,
   "metadata": {},
   "outputs": [],
   "source": []
  }
 ],
 "metadata": {
  "kernelspec": {
   "display_name": "Python 3",
   "language": "python",
   "name": "python3"
  },
  "language_info": {
   "codemirror_mode": {
    "name": "ipython",
    "version": 3
   },
   "file_extension": ".py",
   "mimetype": "text/x-python",
   "name": "python",
   "nbconvert_exporter": "python",
   "pygments_lexer": "ipython3",
   "version": "3.8.5"
  }
 },
 "nbformat": 4,
 "nbformat_minor": 4
}
