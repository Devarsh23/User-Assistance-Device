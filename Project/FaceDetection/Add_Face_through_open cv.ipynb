{
 "cells": [
  {
   "cell_type": "code",
   "execution_count": 1,
   "metadata": {},
   "outputs": [
    {
     "name": "stdout",
     "output_type": "stream",
     "text": [
      "Enter Your nameunknown\n",
      "./unknown/210.jpg\n",
      "./unknown/211.jpg\n",
      "./unknown/212.jpg\n",
      "./unknown/213.jpg\n",
      "./unknown/214.jpg\n",
      "./unknown/215.jpg\n",
      "./unknown/216.jpg\n",
      "./unknown/217.jpg\n",
      "./unknown/218.jpg\n",
      "./unknown/219.jpg\n",
      "./unknown/220.jpg\n",
      "./unknown/221.jpg\n",
      "./unknown/222.jpg\n",
      "./unknown/223.jpg\n",
      "./unknown/224.jpg\n",
      "./unknown/225.jpg\n",
      "./unknown/226.jpg\n",
      "./unknown/227.jpg\n",
      "./unknown/228.jpg\n",
      "./unknown/229.jpg\n",
      "Collecting Samples Complete\n"
     ]
    }
   ],
   "source": [
    "# we Are saving images here\n",
    "import cv2\n",
    "import numpy as np\n",
    "import os\n",
    "\n",
    "\n",
    "# Initialize Webcam\n",
    "cap = cv2.VideoCapture(0)\n",
    "count = 0\n",
    "name=input(\"Enter Your name\")\n",
    "os.mkdir(\"./dataset/\"+name)\n",
    "path = os.path.join(\"./dataset/\",name)\n",
    "os.chdir(\"./dataset\")\n",
    "\n",
    "# Collect 100 samples of your face from webcam input\n",
    "while True:\n",
    "\n",
    "    ret, frame = cap.read()\n",
    "    # Save file in specified directory with unique name\n",
    "    file_name_path = \"./\"+name+\"/\"+ str(count) + '.jpg'\n",
    "    print(file_name_path)\n",
    "    cv2.imwrite(file_name_path, frame)\n",
    "    cv2.imshow(\"Frame\",frame)\n",
    "    count+=1\n",
    "    if cv2.waitKey(1) == 13 or count == 100: #13 is the Enter Key\n",
    "        break\n",
    "        \n",
    "cap.release()\n",
    "cv2.destroyAllWindows()      \n",
    "print(\"Collecting Samples Complete\")"
   ]
  },
  {
   "cell_type": "code",
   "execution_count": null,
   "metadata": {},
   "outputs": [],
   "source": [
    "\n"
   ]
  }
 ],
 "metadata": {
  "kernelspec": {
   "display_name": "Python 3",
   "language": "python",
   "name": "python3"
  },
  "language_info": {
   "codemirror_mode": {
    "name": "ipython",
    "version": 3
   },
   "file_extension": ".py",
   "mimetype": "text/x-python",
   "name": "python",
   "nbconvert_exporter": "python",
   "pygments_lexer": "ipython3",
   "version": "3.8.1"
  }
 },
 "nbformat": 4,
 "nbformat_minor": 4
}
